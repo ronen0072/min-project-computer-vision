{
 "cells": [
  {
   "cell_type": "markdown",
   "metadata": {},
   "source": [
    "מיני פרוייקט - נושאים בגרפיקה ממוחשבת\n",
    "רונן פיניש וקמה רפל"
   ]
  },
  {
   "cell_type": "code",
   "execution_count": 2,
   "metadata": {
    "collapsed": true
   },
   "outputs": [],
   "source": [
    "dim =32\n",
    "num_of_angles = 12\n",
    "num_of_anglesY = 2"
   ]
  },
  {
   "cell_type": "code",
   "execution_count": 3,
   "metadata": {
    "collapsed": true
   },
   "outputs": [],
   "source": [
    "def vol2depthmap(v, bg_val=40.):\n",
    "    #convert volume to depth map\n",
    "    temp0=np.zeros((dim,dim,7))\n",
    "    temp1=np.ones((dim,dim,1))\n",
    "    temp=np.concatenate((temp0, temp1),axis=2)\n",
    "    temp=np.concatenate((v, temp),axis=2)\n",
    "    depthmap = temp.argmax(2)\n",
    "  \n",
    "    return depthmap"
   ]
  },
  {
   "cell_type": "code",
   "execution_count": 4,
   "metadata": {
    "collapsed": true
   },
   "outputs": [],
   "source": [
    "def CreateDepthMapDataset (samples ):\n",
    "    #create multi matrix of depth map.\n",
    "    # for each of the objects we do a vector of all the views that we \"taking pictures\" for this object.\n",
    "\n",
    "    DepthMapDataset = np.zeros((len(samples),(num_of_angles+num_of_anglesY),dim,dim)) \n",
    "    vector_Depth_maps = np.zeros(((num_of_angles+num_of_anglesY),dim,dim))\n",
    "    for i in range(len(samples)):\n",
    "        for j in range(num_of_angles):\n",
    "            vol=ANGLEpointcloud2volumeX(samples[i],j*(360/num_of_angles))\n",
    "            temp=np.array([vol2depthmap(vol)])\n",
    "            vector_Depth_maps[j]=temp\n",
    "        vol=ANGLEpointcloud2volumeY(samples[i],90)\n",
    "        temp=np.array([vol2depthmap(vol)])\n",
    "        vector_Depth_maps[num_of_angles]=temp\n",
    "        vol=ANGLEpointcloud2volumeY(samples[i],270)\n",
    "        temp=np.array([vol2depthmap(vol)])\n",
    "        vector_Depth_maps[num_of_angles+1]=temp\n",
    "            #vol=ANGLEpointcloud2volumeZ(samples[i],j*(360/num_of_angles))\n",
    "            #temp=np.array([vol2depthmap(vol)])\n",
    "            #vector_Depth_maps[j+(2*num_of_angles)]=temp\n",
    "        DepthMapDataset[i]=vector_Depth_maps\n",
    "    return DepthMapDataset"
   ]
  },
  {
   "cell_type": "markdown",
   "metadata": {},
   "source": [
    "rotate the object for \"taking picture\" from 12 angles.\n",
    "Each function corresponds to a specific axis.\n",
    "And convert pointcloud to volume"
   ]
  },
  {
   "cell_type": "code",
   "execution_count": 5,
   "metadata": {
    "collapsed": true
   },
   "outputs": [],
   "source": [
    "def ANGLEpointcloud2volumeX(pc,angle, dim=32):\n",
    "    vol = np.zeros((dim,dim,dim))\n",
    "    tempPC = np.copy(pc)\n",
    "    \n",
    "    tempPC = tempPC - [0.5, 0.5, 0.5]\n",
    "    tempPC = rotateX(tempPC,pc, angle)\n",
    "# assert tempPC.all()>=-0.5 and tempPC.all()<=0.5, \"# debug assertion\"\n",
    "    tempPC = tempPC + [0.5, 0.5, 0.5]\n",
    "    \n",
    "    tempPC *= (dim-1) \n",
    "    tempPC = tempPC.astype(int)\n",
    "    tempPC=np.minimum(tempPC,dim-1)\n",
    "    assert tempPC.all()>=0 and tempPC.all()<=1, \"# debug assertion\"\n",
    "    vol[tempPC[:,0],tempPC[:,1],tempPC[:,2]] = 1.0\n",
    "    return vol\n",
    "\n",
    "def rotateX(tempPC,pc, angle):\n",
    "    angle_in_radian=angle*np.pi/180\n",
    "    (x,y)=tempPC.shape\n",
    "    rotationMatrix=np.ones(3)\n",
    "    rotationMatrix=np.array([[1,0,0],\n",
    "                             [0,np.cos(angle_in_radian),-1*np.sin(angle_in_radian)],\n",
    "                             [0,np.sin(angle_in_radian),np.cos(angle_in_radian)]])\n",
    "    tempPC=tempPC.dot(rotationMatrix)\n",
    "    return tempPC"
   ]
  },
  {
   "cell_type": "code",
   "execution_count": 6,
   "metadata": {
    "collapsed": true
   },
   "outputs": [],
   "source": [
    "def ANGLEpointcloud2volumeY(pc,angle, dim=32):\n",
    "    vol = np.zeros((dim,dim,dim))\n",
    "    tempPC = np.copy(pc)\n",
    "    \n",
    "    tempPC = tempPC - [0.5, 0.5, 0.5]\n",
    "    tempPC = rotateY(tempPC,pc, angle)\n",
    "# assert tempPC.all()>=-0.5 and tempPC.all()<=0.5, \"# debug assertion\"\n",
    "    tempPC = tempPC + [0.5, 0.5, 0.5]\n",
    "    \n",
    "    tempPC *= (dim-1) \n",
    "    tempPC = tempPC.astype(int)\n",
    "    tempPC=np.minimum(tempPC,dim-1)\n",
    "    assert tempPC.all()>=0 and tempPC.all()<=1, \"# debug assertion\"\n",
    "    vol[tempPC[:,0],tempPC[:,1],tempPC[:,2]] = 1.0\n",
    "    return vol\n",
    "\n",
    "def rotateY(tempPC,pc, angle):\n",
    "    angle_in_radian=angle*np.pi/180\n",
    "    (x,y)=tempPC.shape\n",
    "    rotationMatrix=np.ones(3)\n",
    "    rotationMatrix=np.array([[np.cos(angle_in_radian),0,np.sin(angle_in_radian)],\n",
    "                             [0,1,0],\n",
    "                             [-1*np.sin(angle_in_radian),0,np.cos(angle_in_radian)]])\n",
    "    tempPC=tempPC.dot(rotationMatrix)\n",
    "    return tempPC"
   ]
  },
  {
   "cell_type": "code",
   "execution_count": 7,
   "metadata": {
    "collapsed": true
   },
   "outputs": [],
   "source": [
    "def ANGLEpointcloud2volumeZ(pc,angle, dim=32):\n",
    "    vol = np.zeros((dim,dim,dim))\n",
    "    tempPC = np.copy(pc)\n",
    "    \n",
    "    tempPC = tempPC - [0.5, 0.5, 0.5]\n",
    "    tempPC = rotateZ(tempPC,pc, angle)\n",
    "# assert tempPC.all()>=-0.5 and tempPC.all()<=0.5, \"# debug assertion\"\n",
    "    tempPC = tempPC + [0.5, 0.5, 0.5]\n",
    "    \n",
    "    tempPC *= (dim-1) \n",
    "    tempPC = tempPC.astype(int)\n",
    "    tempPC=np.minimum(tempPC,dim-1)\n",
    "    assert tempPC.all()>=0 and tempPC.all()<=1, \"# debug assertion\"\n",
    "    vol[tempPC[:,0],tempPC[:,1],tempPC[:,2]] = 1.0\n",
    "    return vol\n",
    "\n",
    "def rotateZ(tempPC,pc, angle):\n",
    "    angle_in_radian=angle*np.pi/180\n",
    "    (x,y)=tempPC.shape\n",
    "    rotationMatrix=np.ones(3)\n",
    "    rotationMatrix=np.array([[np.cos(angle_in_radian),-1*np.sin(angle_in_radian),0],\n",
    "                             [np.sin(angle_in_radian),np.cos(angle_in_radian),0],\n",
    "                             [0,0,1]])\n",
    "    tempPC=tempPC.dot(rotationMatrix)\n",
    "    return tempPC"
   ]
  },
  {
   "cell_type": "markdown",
   "metadata": {},
   "source": [
    "build the data"
   ]
  },
  {
   "cell_type": "code",
   "execution_count": 8,
   "metadata": {
    "scrolled": false
   },
   "outputs": [
    {
     "name": "stdout",
     "output_type": "stream",
     "text": [
      "(3991, 14, 32, 32)\n",
      "x_train shape: (3991, 14, 32, 32, 1)\n",
      "3991 train samples\n",
      "908 test samples\n"
     ]
    }
   ],
   "source": [
    "\n",
    "import matplotlib as matplotlib\n",
    "import numpy as np\n",
    "import keras\n",
    "from keras import backend as K\n",
    "\n",
    "batch_size = 128\n",
    "num_classes = 10\n",
    "\n",
    "img_rows, img_cols = dim,dim   # input image dimensions\n",
    "\n",
    "num_views = num_of_angles+num_of_anglesY\n",
    "########################\n",
    "\n",
    "# the data, shuffled and split between train and test sets\n",
    "'''load val'''\n",
    "ds = np.load('modelnet10_val.npz')\n",
    "samples = ds['samples']\n",
    "labels = ds['labels']\n",
    "samplesData=CreateDepthMapDataset (samples)\n",
    "'''load train'''\n",
    "modelnet10_train = np.load('modelnet10_train.npz')\n",
    "samplesTrain = modelnet10_train['samples']\n",
    "labelsTrain = modelnet10_train['labels']\n",
    "samplesDataTrain=CreateDepthMapDataset (samplesTrain)\n",
    "\n",
    "\n",
    "\n",
    "(x_train, y_train)=(samplesDataTrain, labelsTrain)\n",
    "(x_test, y_test) = (samplesData, labels)\n",
    "print (x_train.shape)\n",
    "\n",
    "if K.image_data_format() == 'channels_first':\n",
    "    x_train = x_train.reshape(x_train.shape[0],num_views,1,  img_rows, img_cols)\n",
    "    x_test = x_test.reshape(x_test.shape[0],num_views, 1, img_rows, img_cols)\n",
    "    input_shape = (num_views,1, img_rows, img_cols)\n",
    "else:\n",
    "    x_train = x_train.reshape(x_train.shape[0],num_views, img_rows, img_cols, 1)\n",
    "    x_test = x_test.reshape(x_test.shape[0],num_views, img_rows, img_cols, 1)\n",
    "    input_shape = (num_views,img_rows, img_cols,1)\n",
    "x_train = x_train.astype('float32')\n",
    "x_test = x_test.astype('float32')\n",
    "x_train /= 255\n",
    "x_test /= 255\n",
    "print('x_train shape:', x_train.shape)\n",
    "print(x_train.shape[0], 'train samples')\n",
    "print(x_test.shape[0], 'test samples')\n",
    "\n",
    "# convert class vectors to binary class matrices\n",
    "y_train = keras.utils.to_categorical(y_train, num_classes)\n",
    "y_test = keras.utils.to_categorical(y_test, num_classes)\n"
   ]
  },
  {
   "cell_type": "code",
   "execution_count": 14,
   "metadata": {
    "scrolled": false
   },
   "outputs": [
    {
     "name": "stdout",
     "output_type": "stream",
     "text": [
      "Train on 3991 samples, validate on 908 samples\n",
      "Epoch 1/30\n",
      "3991/3991 [==============================] - 99s - loss: 2.0388 - acc: 0.2892 - val_loss: 1.7525 - val_acc: 0.4868\n",
      "Epoch 2/30\n",
      "3991/3991 [==============================] - 100s - loss: 1.1578 - acc: 0.6414 - val_loss: 0.8756 - val_acc: 0.7137\n",
      "Epoch 3/30\n",
      "3991/3991 [==============================] - 99s - loss: 0.6977 - acc: 0.7712 - val_loss: 0.6883 - val_acc: 0.7500\n",
      "Epoch 4/30\n",
      "3991/3991 [==============================] - 101s - loss: 0.5589 - acc: 0.8176 - val_loss: 0.5857 - val_acc: 0.7709\n",
      "Epoch 5/30\n",
      "3991/3991 [==============================] - 98s - loss: 0.4914 - acc: 0.8421 - val_loss: 0.5042 - val_acc: 0.8172\n",
      "Epoch 6/30\n",
      "3991/3991 [==============================] - 95s - loss: 0.4295 - acc: 0.8519 - val_loss: 0.4767 - val_acc: 0.8183\n",
      "Epoch 7/30\n",
      "3991/3991 [==============================] - 98s - loss: 0.4059 - acc: 0.8702 - val_loss: 0.4697 - val_acc: 0.8535\n",
      "Epoch 8/30\n",
      "3991/3991 [==============================] - 112s - loss: 0.3692 - acc: 0.8815 - val_loss: 0.4543 - val_acc: 0.8403\n",
      "Epoch 9/30\n",
      "3991/3991 [==============================] - 112s - loss: 0.3548 - acc: 0.8832 - val_loss: 0.4789 - val_acc: 0.8238\n",
      "Epoch 10/30\n",
      "3991/3991 [==============================] - 99s - loss: 0.3293 - acc: 0.8928 - val_loss: 0.4266 - val_acc: 0.8590\n",
      "Epoch 11/30\n",
      "3991/3991 [==============================] - 101s - loss: 0.3076 - acc: 0.9005 - val_loss: 0.4204 - val_acc: 0.8623\n",
      "Epoch 12/30\n",
      "3991/3991 [==============================] - 102s - loss: 0.2934 - acc: 0.9078 - val_loss: 0.4242 - val_acc: 0.8623\n",
      "Epoch 13/30\n",
      "3991/3991 [==============================] - 105s - loss: 0.2856 - acc: 0.9060 - val_loss: 0.4329 - val_acc: 0.8568\n",
      "Epoch 14/30\n",
      "3991/3991 [==============================] - 102s - loss: 0.2506 - acc: 0.9181 - val_loss: 0.3866 - val_acc: 0.8722\n",
      "Epoch 15/30\n",
      "3991/3991 [==============================] - 102s - loss: 0.2467 - acc: 0.9203 - val_loss: 0.3909 - val_acc: 0.8700\n",
      "Epoch 16/30\n",
      "3991/3991 [==============================] - 98s - loss: 0.2367 - acc: 0.9228 - val_loss: 0.3798 - val_acc: 0.8833\n",
      "Epoch 17/30\n",
      "3991/3991 [==============================] - 97s - loss: 0.2120 - acc: 0.9276 - val_loss: 0.4191 - val_acc: 0.8711\n",
      "Epoch 18/30\n",
      "3991/3991 [==============================] - 97s - loss: 0.2221 - acc: 0.9238 - val_loss: 0.4345 - val_acc: 0.8656\n",
      "Epoch 19/30\n",
      "3991/3991 [==============================] - 97s - loss: 0.2207 - acc: 0.9268 - val_loss: 0.4010 - val_acc: 0.8733\n",
      "Epoch 20/30\n",
      "3991/3991 [==============================] - 103s - loss: 0.2001 - acc: 0.9381 - val_loss: 0.4252 - val_acc: 0.8767\n",
      "Epoch 21/30\n",
      "3991/3991 [==============================] - 134s - loss: 0.1880 - acc: 0.9323 - val_loss: 0.3593 - val_acc: 0.8888\n",
      "Epoch 22/30\n",
      "3991/3991 [==============================] - 120s - loss: 0.1957 - acc: 0.9369 - val_loss: 0.3749 - val_acc: 0.8778\n",
      "Epoch 23/30\n",
      "3991/3991 [==============================] - 125s - loss: 0.1600 - acc: 0.9436 - val_loss: 0.3777 - val_acc: 0.8921\n",
      "Epoch 24/30\n",
      "3991/3991 [==============================] - 126s - loss: 0.1622 - acc: 0.9459 - val_loss: 0.3874 - val_acc: 0.8822\n",
      "Epoch 25/30\n",
      "3991/3991 [==============================] - 130s - loss: 0.1560 - acc: 0.9474 - val_loss: 0.3678 - val_acc: 0.8910\n",
      "Epoch 26/30\n",
      "3991/3991 [==============================] - 128s - loss: 0.1602 - acc: 0.9426 - val_loss: 0.3725 - val_acc: 0.8811\n",
      "Epoch 27/30\n",
      "3991/3991 [==============================] - 122s - loss: 0.1516 - acc: 0.9456 - val_loss: 0.3471 - val_acc: 0.8976\n",
      "Epoch 28/30\n",
      "3991/3991 [==============================] - 139s - loss: 0.1351 - acc: 0.9526 - val_loss: 0.3894 - val_acc: 0.8866\n",
      "Epoch 29/30\n",
      "3991/3991 [==============================] - 135s - loss: 0.1368 - acc: 0.9491 - val_loss: 0.4001 - val_acc: 0.8866\n",
      "Epoch 30/30\n",
      "3991/3991 [==============================] - 136s - loss: 0.1304 - acc: 0.9564 - val_loss: 0.3957 - val_acc: 0.8833\n",
      "Test loss: 0.39568048778\n",
      "Test accuracy: 0.883259911894\n"
     ]
    }
   ],
   "source": [
    "#build the model\n",
    "#trainning and running\n",
    "\n",
    "import matplotlib as matplotlib\n",
    "import numpy as np\n",
    "import keras\n",
    "from keras.models import Sequential,Model\n",
    "from keras.layers import Dense, Dropout, Flatten,Input, Conv2D, MaxPooling2D\n",
    "from keras import backend as K\n",
    "from split_layer1 import SplitLayer, get_test_shared_model\n",
    "\n",
    "num_views = num_of_angles+num_of_anglesY\n",
    "batch_size = 128\n",
    "num_classes = 10\n",
    "epochs = 30\n",
    "\n",
    "\n",
    "########################\n",
    "\n",
    "\n",
    "#input layer\n",
    "cnn = get_test_shared_model()\n",
    "input = keras.layers.Input((num_views, 32, 32, 1))\n",
    "\n",
    "views = SplitLayer(num_views)(input)\n",
    "\n",
    "processed_views = [] # empty list\n",
    "cnn=get_test_shared_model()\n",
    "for view in views:\n",
    "    x=cnn(view)\n",
    "    processed_views.append(x)\n",
    "    \n",
    "pooled_views = keras.layers.Maximum()(processed_views)\n",
    "#x = Conv2D(32, (3, 3), activation='relu')(pooled_views)\n",
    "#x = keras.layers.Flatten()(x)\n",
    "x = Dropout(0.25)(pooled_views) \n",
    "x = keras.layers.Dense(128)(x)\n",
    "x = Dropout(0.5)(x) \n",
    "x = Dense(num_classes, activation='softmax')(x)\n",
    "model = keras.models.Model(input, x)\n",
    "\n",
    "#######################\n",
    "\n",
    "model.compile(loss=keras.losses.categorical_crossentropy,\n",
    "              optimizer=keras.optimizers.Adam(),\n",
    "              metrics=['accuracy'])\n",
    "\n",
    "model.fit(x_train, y_train,\n",
    "    batch_size=batch_size,\n",
    "    epochs=epochs,\n",
    "    verbose=1,\n",
    "    validation_data=(x_test, y_test))\n",
    "\n",
    "score = model.evaluate(x_test, y_test, verbose=0)\n",
    "\n",
    "print('Test loss:', score[0])\n",
    "print('Test accuracy:', score[1])\n"
   ]
  },
  {
   "cell_type": "code",
   "execution_count": 15,
   "metadata": {
    "collapsed": true
   },
   "outputs": [],
   "source": [
    "def predict_classes(self, x, batch_size=32, verbose=1):\n",
    "    '''Generate class predictions for the input samples\n",
    "    batch by batch.\n",
    "    # Arguments\n",
    "    x: input data, as a Numpy array or list of Numpy arrays\n",
    "    (if the model has multiple inputs).\n",
    "    batch_size: integer.\n",
    "    verbose: verbosity mode, 0 or 1.\n",
    "    # Returns\n",
    "    A numpy array of class predictions.\n",
    "    '''\n",
    "    proba = self.predict(x, batch_size=batch_size, verbose=verbose)\n",
    "    if proba.shape[-1] > 1:\n",
    "        return proba.argmax(axis=-1)\n",
    "    else:\n",
    "        return (proba > 0.5).astype('int32')"
   ]
  },
  {
   "cell_type": "code",
   "execution_count": 16,
   "metadata": {},
   "outputs": [
    {
     "name": "stdout",
     "output_type": "stream",
     "text": [
      "908/908 [==============================] - 6s     \n"
     ]
    }
   ],
   "source": [
    "# calculate predictions\n",
    "predictions = model.predict(x_test,batch_size=10,verbose=0)\n",
    "# round predictions\n",
    "rounded = predict_classes(model,x_test)"
   ]
  },
  {
   "cell_type": "code",
   "execution_count": 17,
   "metadata": {
    "collapsed": true
   },
   "outputs": [],
   "source": [
    "%matplotlib inline\n",
    "from sklearn.metrics import confusion_matrix\n",
    "import itertools\n",
    "import matplotlib.pyplot as plt\n",
    "cm = confusion_matrix(labels,rounded)"
   ]
  },
  {
   "cell_type": "code",
   "execution_count": 18,
   "metadata": {
    "collapsed": true
   },
   "outputs": [],
   "source": [
    "def plot_confusion_matrix (cm, classes, normalize=False, title='confusionmatrix' , cmap=plt.cm.Blues):\n",
    "    plt.imshow(cm, interpolation='nearest', cmap=cmap)\n",
    "    plt.title(title)\n",
    "    plt.colorbar()\n",
    "    tick_marks=np.arange(len(classes))\n",
    "    plt.xticks(tick_marks,classes,rotation=90)\n",
    "    plt.yticks(tick_marks,classes)\n",
    "    \n",
    "    if normalize:\n",
    "        cm=cm.astype('float')/cm.sum(axis=1)[:,np.newaxis]\n",
    "        print (\"Normalized confusion matrix\")\n",
    "    else:\n",
    "        print (\"confusion matrix, without normalization\")\n",
    "        \n",
    "   # print (cm)\n",
    "    \n",
    "    thresh = cm.max()/2.\n",
    "    for i,j in itertools.product(range(cm.shape[0]),range(cm.shape[1])):\n",
    "        plt.text(j,i,cm[i, j], horizontalalignment = \"center\",color=\"white\" if cm[i,j]>thresh else \"black\")\n",
    "    \n",
    "    plt.tight_layout()\n",
    "    plt.ylabel('True label')\n",
    "    plt.xlabel('Predicted label')"
   ]
  },
  {
   "cell_type": "code",
   "execution_count": 19,
   "metadata": {},
   "outputs": [
    {
     "name": "stdout",
     "output_type": "stream",
     "text": [
      "confusion matrix, without normalization\n",
      "908/908 [==============================] - 6s     \n",
      "\n",
      "acc: 88.33%\n"
     ]
    },
    {
     "data": {
      "image/png": "[encoded data removed]",
      "text/plain": [
       "<matplotlib.figure.Figure at 0x2354da47eb8>"
      ]
     },
     "metadata": {},
     "output_type": "display_data"
    }
   ],
   "source": [
    "cm_plot_label = ['bathtub', 'bed', 'chair', 'desk', 'dresser','monitor', 'night_stand', 'sofa', 'table', 'toilet']\n",
    "plot_confusion_matrix(cm,cm_plot_label,title=\"Confusion Matrix\")\n",
    "#evaluate the model\n",
    "scores = model.evaluate(x_test, y_test)\n",
    "print(\"\\n%s: %.2f%%\" % (model.metrics_names[1], scores[1]*100))"
   ]
  }
 ],
 "metadata": {
  "kernelspec": {
   "display_name": "Python 3",
   "language": "python",
   "name": "python3"
  },
  "language_info": {
   "codemirror_mode": {
    "name": "ipython",
    "version": 3
   },
   "file_extension": ".py",
   "mimetype": "text/x-python",
   "name": "python",
   "nbconvert_exporter": "python",
   "pygments_lexer": "ipython3",
   "version": "3.6.3"
  }
 },
 "nbformat": 4,
 "nbformat_minor": 2
}
